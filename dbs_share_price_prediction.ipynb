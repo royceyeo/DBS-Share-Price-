{
  "cells": [
    {
      "cell_type": "code",
      "execution_count": 1,
      "metadata": {
        "colab": {
          "base_uri": "https://localhost:8080/"
        },
        "id": "F3Ojopc-mLUG",
        "outputId": "039333c1-192a-4b86-90b9-a2dfe858d489"
      },
      "outputs": [
        {
          "name": "stdout",
          "output_type": "stream",
          "text": [
            "Requirement already satisfied: pandas in e:\\my python script\\ntu_fmbait\\.venv\\lib\\site-packages (2.2.3)\n",
            "Requirement already satisfied: numpy>=1.23.2 in e:\\my python script\\ntu_fmbait\\.venv\\lib\\site-packages (from pandas) (2.2.4)\n",
            "Requirement already satisfied: python-dateutil>=2.8.2 in e:\\my python script\\ntu_fmbait\\.venv\\lib\\site-packages (from pandas) (2.9.0.post0)\n",
            "Requirement already satisfied: pytz>=2020.1 in e:\\my python script\\ntu_fmbait\\.venv\\lib\\site-packages (from pandas) (2025.2)\n",
            "Requirement already satisfied: tzdata>=2022.7 in e:\\my python script\\ntu_fmbait\\.venv\\lib\\site-packages (from pandas) (2025.2)\n",
            "Requirement already satisfied: six>=1.5 in e:\\my python script\\ntu_fmbait\\.venv\\lib\\site-packages (from python-dateutil>=2.8.2->pandas) (1.17.0)\n",
            "Note: you may need to restart the kernel to use updated packages.\n",
            "Requirement already satisfied: scikit-learn in e:\\my python script\\ntu_fmbait\\.venv\\lib\\site-packages (1.6.1)\n",
            "Requirement already satisfied: numpy>=1.19.5 in e:\\my python script\\ntu_fmbait\\.venv\\lib\\site-packages (from scikit-learn) (2.2.4)\n",
            "Requirement already satisfied: scipy>=1.6.0 in e:\\my python script\\ntu_fmbait\\.venv\\lib\\site-packages (from scikit-learn) (1.15.2)\n",
            "Requirement already satisfied: joblib>=1.2.0 in e:\\my python script\\ntu_fmbait\\.venv\\lib\\site-packages (from scikit-learn) (1.4.2)\n",
            "Requirement already satisfied: threadpoolctl>=3.1.0 in e:\\my python script\\ntu_fmbait\\.venv\\lib\\site-packages (from scikit-learn) (3.6.0)\n",
            "Note: you may need to restart the kernel to use updated packages.\n"
          ]
        }
      ],
      "source": [
        "%pip install pandas\n",
        "%pip install scikit-learn"
      ]
    },
    {
      "cell_type": "code",
      "execution_count": 2,
      "metadata": {
        "id": "letqCqudm5RX"
      },
      "outputs": [],
      "source": [
        "import pandas as pd\n",
        "df = pd.read_csv(\"./DBS_SingDollar.csv\")\n",
        "df\n",
        "X = df.loc[:,[\"SGD\"]]\n",
        "y = df.loc[:,[\"DBS\"]]"
      ]
    },
    {
      "cell_type": "code",
      "execution_count": 3,
      "metadata": {},
      "outputs": [
        {
          "name": "stdout",
          "output_type": "stream",
          "text": [
            "-50.60094301839588\n",
            "90.22858514803661\n"
          ]
        }
      ],
      "source": [
        "from sklearn import linear_model\n",
        "regr = linear_model.LinearRegression()\n",
        "regr.fit(X, y)\n",
        "print(regr.coef_[0][0])\n",
        "print(regr.intercept_[0])"
      ]
    },
    {
      "cell_type": "code",
      "execution_count": 4,
      "metadata": {},
      "outputs": [
        {
          "name": "stdout",
          "output_type": "stream",
          "text": [
            "Root Mean squared error: 0.63\n"
          ]
        }
      ],
      "source": [
        "from sklearn.metrics import mean_squared_error\n",
        "y_pred = regr.predict(X)\n",
        "print(\"Root Mean squared error: %.2f\" % mean_squared_error(y, y_pred)**0.5)"
      ]
    },
    {
      "cell_type": "code",
      "execution_count": 5,
      "metadata": {},
      "outputs": [],
      "source": [
        "from flask import Flask, render_template, request"
      ]
    },
    {
      "cell_type": "code",
      "execution_count": null,
      "metadata": {},
      "outputs": [
        {
          "name": "stdout",
          "output_type": "stream",
          "text": [
            " * Serving Flask app '__main__'\n",
            " * Debug mode: off\n"
          ]
        },
        {
          "name": "stderr",
          "output_type": "stream",
          "text": [
            "WARNING: This is a development server. Do not use it in a production deployment. Use a production WSGI server instead.\n",
            " * Running on http://127.0.0.1:5000\n",
            "Press CTRL+C to quit\n",
            "127.0.0.1 - - [05/Apr/2025 09:30:36] \"GET / HTTP/1.1\" 200 -\n",
            "127.0.0.1 - - [05/Apr/2025 09:30:36] \"GET /static/styles.css HTTP/1.1\" 404 -\n",
            "127.0.0.1 - - [05/Apr/2025 09:30:36] \"GET /static/styles.css HTTP/1.1\" 404 -\n",
            "127.0.0.1 - - [05/Apr/2025 09:30:39] \"POST /prediction HTTP/1.1\" 200 -\n",
            "127.0.0.1 - - [05/Apr/2025 09:30:39] \"GET /static/styles.css HTTP/1.1\" 404 -\n",
            "127.0.0.1 - - [05/Apr/2025 09:30:42] \"POST / HTTP/1.1\" 200 -\n",
            "127.0.0.1 - - [05/Apr/2025 09:30:42] \"GET /static/styles.css HTTP/1.1\" 404 -\n"
          ]
        }
      ],
      "source": [
        "app = Flask(__name__)\n",
        "\n",
        "@app.route(\"/\",methods=[\"GET\",\"POST\"])\n",
        "def index():\n",
        "    return(render_template(\"index.html\"))\n",
        "\n",
        "@app.route(\"/prediction\",methods=[\"GET\",\"POST\"])\n",
        "def prediction():\n",
        "    q = float(request.form.get(\"q\"))\n",
        "    return(render_template(\"prediction.html\", r=(-50.6*q)+90.2))\n",
        "\n",
        "if __name__ == \"__main__\":\n",
        "    app.run()"
      ]
    }
  ],
  "metadata": {
    "colab": {
      "provenance": []
    },
    "kernelspec": {
      "display_name": ".venv",
      "language": "python",
      "name": "python3"
    },
    "language_info": {
      "codemirror_mode": {
        "name": "ipython",
        "version": 3
      },
      "file_extension": ".py",
      "mimetype": "text/x-python",
      "name": "python",
      "nbconvert_exporter": "python",
      "pygments_lexer": "ipython3",
      "version": "3.11.8"
    }
  },
  "nbformat": 4,
  "nbformat_minor": 0
}
